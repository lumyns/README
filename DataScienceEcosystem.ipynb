{
 "cells": [
  {
   "cell_type": "markdown",
   "id": "1a404db7-0d97-4f05-9498-0cc16a7e1212",
   "metadata": {
    "tags": []
   },
   "source": [
    "# Data Science Tools and Ecosystem"
   ]
  },
  {
   "cell_type": "markdown",
   "id": "6a74dfa2-e43e-42a5-9bbb-f3911634c54f",
   "metadata": {},
   "source": [
    "## Author\n",
    "Arive Maynes "
   ]
  },
  {
   "cell_type": "markdown",
   "id": "4f8621dd-0216-4866-b8c0-c1ae87dbaa8d",
   "metadata": {},
   "source": [
    "In this notebook, Data Science Tools and Ecosystem are summarized"
   ]
  },
  {
   "cell_type": "markdown",
   "id": "1a38dfd3-121a-4d10-9b6b-2890c20a7ca6",
   "metadata": {},
   "source": [
    "**Objectives:**\n",
    "* Languages for Data Science\n",
    "* Libraries commonly used by Data Scientists\n",
    "* OpenSource Data Science Tools\n",
    "* Arithmetic expresison examples"
   ]
  },
  {
   "cell_type": "markdown",
   "id": "1eed8bba-0834-4395-b690-3e6848c91907",
   "metadata": {},
   "source": [
    "Some of the popular languages that Data Scientists use are:\n",
    "1. Python\n",
    "2. R\n",
    "3. SQL\n",
    "4. Java"
   ]
  },
  {
   "cell_type": "markdown",
   "id": "6a9ac313-aa15-4456-846a-7b32a660d79d",
   "metadata": {},
   "source": [
    "Some of the commonly used libraries used by Data Scientists include:\n",
    "1. Pandas\n",
    "2. NumPy\n",
    "3. TensorFlow\n",
    "4. ggplot2"
   ]
  },
  {
   "cell_type": "markdown",
   "id": "cc0d0f0c-f0e3-42ea-8394-272f58ce7bde",
   "metadata": {},
   "source": [
    "\n",
    "| Data Science Tools |\n",
    "| --- |\n",
    "| MySQL |\n",
    "| Apache Spark |\n",
    "| Seldon |"
   ]
  },
  {
   "cell_type": "markdown",
   "id": "794b8e4b-f51d-4ccf-a5de-9d4456a11923",
   "metadata": {},
   "source": [
    "### Below are a few examples of evaluating arithmetic expressions in Python\n"
   ]
  },
  {
   "cell_type": "code",
   "execution_count": 1,
   "id": "524a3544-8f2b-4868-a16e-01a8e187fff4",
   "metadata": {
    "tags": []
   },
   "outputs": [
    {
     "data": {
      "text/plain": [
       "17"
      ]
     },
     "execution_count": 1,
     "metadata": {},
     "output_type": "execute_result"
    }
   ],
   "source": [
    "# This is a simple arithmetic expression to multiply then add integers.\n",
    "(3*4)+5"
   ]
  },
  {
   "cell_type": "code",
   "execution_count": 5,
   "id": "5567c048-c462-480f-be6f-f128c2bb5cd5",
   "metadata": {
    "tags": []
   },
   "outputs": [
    {
     "data": {
      "text/plain": [
       "3.3333333333333335"
      ]
     },
     "execution_count": 5,
     "metadata": {},
     "output_type": "execute_result"
    }
   ],
   "source": [
    "# This will convert 200 minutes to hours by dividing by 60\n",
    "# 1 hous == 60 minutes:\n",
    "200 / 60"
   ]
  },
  {
   "cell_type": "markdown",
   "id": "2cf4fbe7-9262-4c3f-bb19-0add8de717a9",
   "metadata": {},
   "source": []
  }
 ],
 "metadata": {
  "kernelspec": {
   "display_name": "Python",
   "language": "python",
   "name": "conda-env-python-py"
  },
  "language_info": {
   "codemirror_mode": {
    "name": "ipython",
    "version": 3
   },
   "file_extension": ".py",
   "mimetype": "text/x-python",
   "name": "python",
   "nbconvert_exporter": "python",
   "pygments_lexer": "ipython3",
   "version": "3.7.12"
  }
 },
 "nbformat": 4,
 "nbformat_minor": 5
}
